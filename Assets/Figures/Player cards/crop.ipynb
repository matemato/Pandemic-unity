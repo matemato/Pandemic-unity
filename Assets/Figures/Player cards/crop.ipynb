{
 "cells": [
  {
   "cell_type": "code",
   "execution_count": 8,
   "metadata": {},
   "outputs": [
    {
     "ename": "IndexError",
     "evalue": "list index out of range",
     "output_type": "error",
     "traceback": [
      "\u001b[1;31m---------------------------------------------------------------------------\u001b[0m",
      "\u001b[1;31mIndexError\u001b[0m                                Traceback (most recent call last)",
      "\u001b[1;32md:\\Projects\\Pandemic\\Assets\\Figures\\Player cards\\crop.ipynb Cell 1\u001b[0m in \u001b[0;36m2\n\u001b[0;32m     <a href='vscode-notebook-cell:/d%3A/Projects/Pandemic/Assets/Figures/Player%20cards/crop.ipynb#W0sZmlsZQ%3D%3D?line=21'>22</a>\u001b[0m lower \u001b[39m=\u001b[39m upper \u001b[39m+\u001b[39m h\n\u001b[0;32m     <a href='vscode-notebook-cell:/d%3A/Projects/Pandemic/Assets/Figures/Player%20cards/crop.ipynb#W0sZmlsZQ%3D%3D?line=23'>24</a>\u001b[0m cropped_image \u001b[39m=\u001b[39m player_cards\u001b[39m.\u001b[39mcrop((left, upper, right, lower))\n\u001b[1;32m---> <a href='vscode-notebook-cell:/d%3A/Projects/Pandemic/Assets/Figures/Player%20cards/crop.ipynb#W0sZmlsZQ%3D%3D?line=25'>26</a>\u001b[0m cropped_image\u001b[39m.\u001b[39msave(\u001b[39mf\u001b[39m\u001b[39m\"\u001b[39m\u001b[39m{\u001b[39;00mcities[row][col]\u001b[39m}\u001b[39;00m\u001b[39m.png\u001b[39m\u001b[39m\"\u001b[39m)\n",
      "\u001b[1;31mIndexError\u001b[0m: list index out of range"
     ]
    }
   ],
   "source": [
    "from PIL import Image\n",
    "\n",
    "player_cards = Image.open(\"player-cards.png\")\n",
    "\n",
    "w = 208\n",
    "h = 290\n",
    "\n",
    "whole_w, whole_h = player_cards.size\n",
    "\n",
    "cities = [[\"Bogota\", \"Buenos Aires\", \"Johannesburg\", \"Khartoum\", \"Kinshasa\", \"Lagos\", \"Lima\", \"Los Angeles\", \"Mexico City\", \"Miami\", \"Santiago\", \"Sao Paulo\"],\n",
    "          [\"Algiers\", \"Baghdad\", \"Cairo\", \"Chennai\", \"Delhi\", \"Istanbul\", \"Karachi\", \"Kolkata\", \"Moscow\", \"Mumbai\", \"Riyadh\", \"Tehran\"],\n",
    "          [\"Atlanta\", \"Chicago\", \"Essen\", \"London\", \"Madrid\", \"Milan\", \"Montreal\", \"New York\", \"Paris\", \"San Francisco\", \"St. Petersburg\", \"Washington\"],\n",
    "          [\"Bangkok\", \"Beijing\", \"Ho Chi Minh City\", \"Hong Kong\", \"Jakarta\", \"Manila\", \"Osaka\", \"Seoul\", \"Shanghai\", \"Sydney\", \"Taipei\", \"Tokyo\"],\n",
    "          [\"Government grant\", \"Airlift\", \"Forecast\", \"One quiet night\", \"Resilient population\", \"Epidemic\", \"Player back\"]\n",
    "]\n",
    "\n",
    "for row in range(whole_h//h):\n",
    "    for col in range(whole_w//w):\n",
    "        left = col * w\n",
    "        upper = row * h\n",
    "        right = left + w\n",
    "        lower = upper + h\n",
    "\n",
    "        cropped_image = player_cards.crop((left, upper, right, lower))\n",
    "\n",
    "        cropped_image.save(f\"{cities[row][col]}.png\")"
   ]
  }
 ],
 "metadata": {
  "kernelspec": {
   "display_name": "acvm",
   "language": "python",
   "name": "python3"
  },
  "language_info": {
   "codemirror_mode": {
    "name": "ipython",
    "version": 3
   },
   "file_extension": ".py",
   "mimetype": "text/x-python",
   "name": "python",
   "nbconvert_exporter": "python",
   "pygments_lexer": "ipython3",
   "version": "3.9.12"
  },
  "orig_nbformat": 4
 },
 "nbformat": 4,
 "nbformat_minor": 2
}
